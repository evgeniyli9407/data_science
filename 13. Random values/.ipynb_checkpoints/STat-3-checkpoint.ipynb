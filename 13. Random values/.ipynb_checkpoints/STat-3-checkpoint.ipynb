{
 "cells": [
  {
   "cell_type": "code",
   "execution_count": 2,
   "metadata": {},
   "outputs": [],
   "source": [
    "#Смоделировать игру против лотерейного автомата типа “777”. Игрок платит 1 руб., \n",
    "#после чего выпадает случайное целое число, равномерно распределенное от 0 до 999. \n",
    "#При некоторых значениях числа игрок получает выигрыш.\n",
    "#777: 200 руб. 999: 100 руб. 555: 50 руб. 333: 15 руб. 111: 10 руб. *77: 5 руб. **7: 3 руб. *00: 2 руб. **0: 1 руб.\n"
   ]
  },
  {
   "cell_type": "code",
   "execution_count": 23,
   "metadata": {},
   "outputs": [
    {
     "name": "stdout",
     "output_type": "stream",
     "text": [
      "Игра НЕвыигрышна для пользователя, сумма проигрыша:  -336\n",
      "\n",
      " Количество попыток:  1000 \n",
      "Выигрыш:  664 \n",
      "Вероятность выигрыша:  0.664\n"
     ]
    }
   ],
   "source": [
    "import numpy as np\n",
    "\n",
    "trials = 1000     # количество попыток\n",
    "gain = 0    # сумма выигрыша\n",
    "\n",
    "for i in range(trials):\n",
    "    random_number = np.random.randint(0, trials)    \n",
    "    if random_number == 777:\n",
    "        gain += 200\n",
    "    if random_number == 999:\n",
    "        gain += 100\n",
    "    if random_number == 555:\n",
    "        gain += 50\n",
    "    if random_number == 333:\n",
    "        gain += 15\n",
    "    if random_number == 111:\n",
    "        gain += 10\n",
    "    if random_number % 100 == 70 and random_number % 10 == 7:\n",
    "        gain += 5\n",
    "    if random_number % 10 == 7:\n",
    "        gain += 3\n",
    "    if random_number % 100 == 0 and random_number % 10 == 0:\n",
    "        gain += 2\n",
    "    if random_number % 10 == 0:\n",
    "        gain += 1\n",
    "\n",
    "var = gain / trials # вероятность \n",
    "\n",
    "#определим, Выгодна ли игра игроку?\n",
    "if gain - trials>0:\n",
    "    print('Игра выигрышна для пользователя, сумма выигрыша: ',gain - trials)\n",
    "else:\n",
    "    print('Игра НЕвыигрышна для пользователя, сумма проигрыша: ',gain - trials)\n",
    "    \n",
    "print('\\n','Количество попыток: ', trials,'\\n'\n",
    "      'Выигрыш: ', gain, '\\n'\n",
    "      'Вероятность выигрыша: ', var)"
   ]
  },
  {
   "cell_type": "code",
   "execution_count": 21,
   "metadata": {},
   "outputs": [
    {
     "data": {
      "text/plain": [
       "0.653"
      ]
     },
     "execution_count": 21,
     "metadata": {},
     "output_type": "execute_result"
    }
   ],
   "source": [
    "# Сколько в среднем приобретает или теряет игрок за одну игру?\n",
    "var"
   ]
  }
 ],
 "metadata": {
  "kernelspec": {
   "display_name": "Python 3",
   "language": "python",
   "name": "python3"
  },
  "language_info": {
   "codemirror_mode": {
    "name": "ipython",
    "version": 3
   },
   "file_extension": ".py",
   "mimetype": "text/x-python",
   "name": "python",
   "nbconvert_exporter": "python",
   "pygments_lexer": "ipython3",
   "version": "3.8.5"
  }
 },
 "nbformat": 4,
 "nbformat_minor": 4
}
