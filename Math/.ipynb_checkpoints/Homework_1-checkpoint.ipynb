{
 "cells": [
  {
   "cell_type": "markdown",
   "id": "69f756e8",
   "metadata": {},
   "source": [
    "# Задание 1.\n",
    "Представить фильмы в виде бинарных векторов (numpy array) используюя следующие признаки:\n",
    "\n",
    "[Комедия, Боевик, Исторический, Бред Питт, Бенедикт Камбербэтч, Квентин Тарантино]\n",
    "\n",
    "Игра в имитацию [https://www.kinopoisk.ru/film/635772/]\n",
    "Ярость [https://www.kinopoisk.ru/film/740644/]\n",
    "12 лет рабства [https://www.kinopoisk.ru/film/606646/]\n",
    "Однажды в Голливуде [https://www.kinopoisk.ru/film/1047883/]"
   ]
  },
  {
   "cell_type": "code",
   "execution_count": 1,
   "id": "757851f2",
   "metadata": {},
   "outputs": [],
   "source": [
    "import numpy as np\n",
    "\n",
    "imit_game = np.array([0,0,1,0,1,0])\n",
    "fury = np.array([0,1,1,1,0,0])\n",
    "slave = np.array([0,0,1,0,0,0])\n",
    "holly = np.array([1,0,0,1,0,1])"
   ]
  },
  {
   "cell_type": "markdown",
   "id": "29dd9446",
   "metadata": {},
   "source": [
    "# Задание 2.\n",
    "Вычислить Евклидову норму каждого из векторов, полученных в Задании 1."
   ]
  },
  {
   "cell_type": "code",
   "execution_count": 2,
   "id": "37f19b49",
   "metadata": {},
   "outputs": [],
   "source": [
    "imit_game_norm = np.linalg.norm(imit_game)\n",
    "fury_norm = np.linalg.norm(fury)\n",
    "slave_norm = np.linalg.norm(slave)\n",
    "holly_norm = np.linalg.norm(holly)"
   ]
  },
  {
   "cell_type": "markdown",
   "id": "a0474f22",
   "metadata": {},
   "source": [
    "# Задание 3.\n",
    "Найти угол между векторами-фильмами \"Ярость\" и \"12 лет рабства\". Результатом будет являться косинусная мера, которую можно использовать для определения похожести векторов."
   ]
  },
  {
   "cell_type": "code",
   "execution_count": 3,
   "id": "7b8a021d",
   "metadata": {},
   "outputs": [
    {
     "data": {
      "text/plain": [
       "1.0"
      ]
     },
     "execution_count": 3,
     "metadata": {},
     "output_type": "execute_result"
    }
   ],
   "source": [
    "skal = np.dot(fury_norm,slave_norm)/(np.linalg.norm(fury)*np.linalg.norm(slave))\n",
    "skal"
   ]
  },
  {
   "cell_type": "markdown",
   "id": "672fbd9b",
   "metadata": {},
   "source": [
    "# Задание 4.\n",
    "Объединить векторы, полученные в Задании 1 в матрицу, где каждый вектор является строкой матрицы. Полученную матрицу умножить на вектор [1,2,3,4]"
   ]
  },
  {
   "cell_type": "code",
   "execution_count": 6,
   "id": "033fb9bc",
   "metadata": {},
   "outputs": [
    {
     "data": {
      "text/plain": [
       "array([4, 2, 6, 6, 1, 4])"
      ]
     },
     "execution_count": 6,
     "metadata": {},
     "output_type": "execute_result"
    }
   ],
   "source": [
    "matrix = np.array([imit_game,fury,slave,holly])\n",
    "new_vec = np.array([1,2,3,4])\n",
    "new_vec.transpose()@matrix"
   ]
  },
  {
   "cell_type": "markdown",
   "id": "dc0c6252",
   "metadata": {},
   "source": [
    "# Задание 5."
   ]
  },
  {
   "cell_type": "code",
   "execution_count": 57,
   "id": "a103a06a",
   "metadata": {},
   "outputs": [],
   "source": [
    "import sympy as sym\n",
    "x=sym.Symbol('x')"
   ]
  },
  {
   "cell_type": "code",
   "execution_count": 66,
   "id": "a0f8aae0",
   "metadata": {},
   "outputs": [
    {
     "data": {
      "text/latex": [
       "$\\displaystyle 3 x \\left(x^{2} + x\\right)^{3}$"
      ],
      "text/plain": [
       "3*x*(x**2 + x)**3"
      ]
     },
     "execution_count": 66,
     "metadata": {},
     "output_type": "execute_result"
    }
   ],
   "source": [
    "task = 3*x*(x**2+x)**3\n",
    "task"
   ]
  },
  {
   "cell_type": "code",
   "execution_count": 69,
   "id": "61cc60b1",
   "metadata": {},
   "outputs": [
    {
     "data": {
      "text/latex": [
       "$\\displaystyle 132$"
      ],
      "text/plain": [
       "132"
      ]
     },
     "execution_count": 69,
     "metadata": {},
     "output_type": "execute_result"
    }
   ],
   "source": [
    "res=sym.diff(task)\n",
    "res.subs(x,1)"
   ]
  },
  {
   "cell_type": "code",
   "execution_count": 70,
   "id": "1aaab9c9",
   "metadata": {},
   "outputs": [
    {
     "data": {
      "text/latex": [
       "$\\displaystyle 0$"
      ],
      "text/plain": [
       "0"
      ]
     },
     "execution_count": 70,
     "metadata": {},
     "output_type": "execute_result"
    }
   ],
   "source": [
    "next_diff = sym.diff(res.subs(x,1))\n",
    "next_diff"
   ]
  },
  {
   "cell_type": "code",
   "execution_count": null,
   "id": "0c616749",
   "metadata": {},
   "outputs": [],
   "source": []
  }
 ],
 "metadata": {
  "kernelspec": {
   "display_name": "Python 3 (ipykernel)",
   "language": "python",
   "name": "python3"
  },
  "language_info": {
   "codemirror_mode": {
    "name": "ipython",
    "version": 3
   },
   "file_extension": ".py",
   "mimetype": "text/x-python",
   "name": "python",
   "nbconvert_exporter": "python",
   "pygments_lexer": "ipython3",
   "version": "3.9.7"
  }
 },
 "nbformat": 4,
 "nbformat_minor": 5
}
