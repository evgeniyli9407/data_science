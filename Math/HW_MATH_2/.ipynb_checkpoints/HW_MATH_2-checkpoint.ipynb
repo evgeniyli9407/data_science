{
 "cells": [
  {
   "cell_type": "markdown",
   "id": "94d68214",
   "metadata": {},
   "source": [
    "# Задание 1.\n",
    "Создайте случайную матрицу А размерностью  на . Вычислить транспонированную матрицу  и найти обратную матрицу  Найдите определитель и ранг каждой полученной матрицы."
   ]
  },
  {
   "cell_type": "code",
   "execution_count": 13,
   "id": "c3d7e4fc",
   "metadata": {},
   "outputs": [],
   "source": [
    "import numpy as np"
   ]
  },
  {
   "cell_type": "code",
   "execution_count": 14,
   "id": "b6a81c05",
   "metadata": {},
   "outputs": [
    {
     "data": {
      "text/plain": [
       "array([[0.45067352, 0.60730557, 0.27971918, 0.77311188, 0.43962575],\n",
       "       [0.41190518, 0.90421017, 0.63743523, 0.44673677, 0.89045126],\n",
       "       [0.7201721 , 0.63636048, 0.88898739, 0.1421657 , 0.83401734],\n",
       "       [0.18645643, 0.15966046, 0.24050009, 0.4879242 , 0.5407285 ],\n",
       "       [0.10228252, 0.75147634, 0.55353897, 0.02547764, 0.02127228]])"
      ]
     },
     "execution_count": 14,
     "metadata": {},
     "output_type": "execute_result"
    }
   ],
   "source": [
    "a1 = np.random.random((5,5))\n",
    "#транспонированная\n",
    "a1"
   ]
  },
  {
   "cell_type": "code",
   "execution_count": 15,
   "id": "2967e664",
   "metadata": {},
   "outputs": [
    {
     "data": {
      "text/plain": [
       "-0.04857533243673301"
      ]
     },
     "execution_count": 15,
     "metadata": {},
     "output_type": "execute_result"
    }
   ],
   "source": [
    "#транспонированная\n",
    "tr_a1 = np.transpose(a1)\n",
    "rank_tr_a1 = np.linalg.matrix_rank(tr_a1)\n",
    "det_tr_a1 = np.linalg.det(tr_a1)\n",
    "det_tr_a1"
   ]
  },
  {
   "cell_type": "code",
   "execution_count": 16,
   "id": "8b4e7f2c",
   "metadata": {},
   "outputs": [
    {
     "data": {
      "text/plain": [
       "-0.04857533243673301"
      ]
     },
     "execution_count": 16,
     "metadata": {},
     "output_type": "execute_result"
    }
   ],
   "source": [
    "#инверсионная\n",
    "inv_a1 = np.linalg.inv(a1)\n",
    "rank_inv_a1 = np.linalg.matrix_rank(inv_a1)\n",
    "det_inv_a1 = np.linalg.det(inv_a1)\n",
    "det_tr_a1"
   ]
  },
  {
   "cell_type": "markdown",
   "id": "e10ddbe2",
   "metadata": {},
   "source": [
    "# Задание 2.\n",
    "Создайте диагональную матрицу, поэлементно перемножив единичную матрицу I и случайную матрицу A2 размерности  6 на 6  Найдите определитель и ранг полученной матрицы."
   ]
  },
  {
   "cell_type": "code",
   "execution_count": 17,
   "id": "686d04e5",
   "metadata": {},
   "outputs": [
    {
     "data": {
      "text/plain": [
       "array([[0.22364389, 0.27800501, 0.81822826, 0.90182724, 0.77517216,\n",
       "        0.39497191],\n",
       "       [0.00644039, 0.8033792 , 0.16142988, 0.9332791 , 0.2536465 ,\n",
       "        0.6324544 ],\n",
       "       [0.27992852, 0.77261047, 0.7782817 , 0.26021459, 0.28560798,\n",
       "        0.36817491],\n",
       "       [0.98627669, 0.47241923, 0.17069112, 0.49696659, 0.46331693,\n",
       "        0.51104007],\n",
       "       [0.89767636, 0.1088633 , 0.27354516, 0.34444722, 0.53028532,\n",
       "        0.63612899],\n",
       "       [0.95541612, 0.44205413, 0.13913819, 0.2915713 , 0.0745876 ,\n",
       "        0.05517341]])"
      ]
     },
     "execution_count": 17,
     "metadata": {},
     "output_type": "execute_result"
    }
   ],
   "source": [
    "eye_mtx = np.eye(6)\n",
    "a2 = np.random.random((6,6))\n",
    "res_mtx = a2@eye_mtx \n",
    "res_mtx"
   ]
  },
  {
   "cell_type": "code",
   "execution_count": 18,
   "id": "7be354f0",
   "metadata": {},
   "outputs": [
    {
     "data": {
      "text/plain": [
       "6"
      ]
     },
     "execution_count": 18,
     "metadata": {},
     "output_type": "execute_result"
    }
   ],
   "source": [
    "rank_res_mtx = np.linalg.matrix_rank(res_mtx)\n",
    "rank_res_mtx"
   ]
  },
  {
   "cell_type": "code",
   "execution_count": 19,
   "id": "cb7446da",
   "metadata": {},
   "outputs": [
    {
     "data": {
      "text/plain": [
       "-0.06152793446765371"
      ]
     },
     "execution_count": 19,
     "metadata": {},
     "output_type": "execute_result"
    }
   ],
   "source": [
    "det_res_mtx = np.linalg.det(res_mtx)\n",
    "det_res_mtx"
   ]
  },
  {
   "cell_type": "markdown",
   "id": "6326a241",
   "metadata": {},
   "source": [
    "# Задание 3.\n",
    "Далее давайте представим изображения в виде матриц и также определим их свойства. Для первых 10 цифр (от 0 до 9 ) из тестовой базы рукописных цифр (MNIST) определить какая из этих цифр имеет максимальный ранг?"
   ]
  },
  {
   "cell_type": "code",
   "execution_count": 20,
   "id": "3c4f9278",
   "metadata": {},
   "outputs": [],
   "source": [
    "import numpy as np\n",
    "from sklearn.datasets import load_digits\n",
    "import matplotlib.pyplot as plt\n",
    "digits = load_digits()\n"
   ]
  },
  {
   "cell_type": "code",
   "execution_count": 21,
   "id": "9eb9a4c9",
   "metadata": {},
   "outputs": [
    {
     "data": {
      "text/plain": [
       "<Figure size 432x288 with 0 Axes>"
      ]
     },
     "metadata": {},
     "output_type": "display_data"
    },
    {
     "data": {
      "image/png": "[encoded data removed]",
      "text/plain": [
       "<Figure size 288x288 with 1 Axes>"
      ]
     },
     "metadata": {
      "needs_background": "light"
     },
     "output_type": "display_data"
    }
   ],
   "source": [
    "plt.gray();\n",
    "plt.matshow(digits.images[1]);\n",
    "plt.show()"
   ]
  },
  {
   "cell_type": "code",
   "execution_count": 22,
   "id": "45d82932",
   "metadata": {},
   "outputs": [
    {
     "data": {
      "text/plain": [
       "array([[ 0.,  0.,  5., 13.,  9.,  1.,  0.,  0.],\n",
       "       [ 0.,  0., 13., 15., 10., 15.,  5.,  0.],\n",
       "       [ 0.,  3., 15.,  2.,  0., 11.,  8.,  0.],\n",
       "       [ 0.,  4., 12.,  0.,  0.,  8.,  8.,  0.],\n",
       "       [ 0.,  5.,  8.,  0.,  0.,  9.,  8.,  0.],\n",
       "       [ 0.,  4., 11.,  0.,  1., 12.,  7.,  0.],\n",
       "       [ 0.,  2., 14.,  5., 10., 12.,  0.,  0.],\n",
       "       [ 0.,  0.,  6., 13., 10.,  0.,  0.,  0.]])"
      ]
     },
     "execution_count": 22,
     "metadata": {},
     "output_type": "execute_result"
    }
   ],
   "source": [
    "matrix = digits.images[0]\n",
    "matrix\n"
   ]
  },
  {
   "cell_type": "code",
   "execution_count": 23,
   "id": "4377ce2e",
   "metadata": {},
   "outputs": [
    {
     "name": "stdout",
     "output_type": "stream",
     "text": [
      "7\n"
     ]
    }
   ],
   "source": [
    "a=[]\n",
    "own_list=[]\n",
    "for x in range(10):\n",
    "    s = digits.images[x]\n",
    "    rk = a.append(np.linalg.matrix_rank(s))\n",
    "    own_values = own_list.append(np.linalg.eigvals(s))\n",
    "print(a.index(max(a))) #число с максимальным рангом"
   ]
  },
  {
   "cell_type": "markdown",
   "id": "eac0af5b",
   "metadata": {},
   "source": [
    "# Задание 4.\n",
    "Для первых 10 цифр (от 0 до 9) из тестовой базы рукописных цифр (MNIST) найдите все собственные числа. Для каких цифр все собственные значения не являются комплексными? "
   ]
  },
  {
   "cell_type": "raw",
   "id": "49302711",
   "metadata": {},
   "source": [
    "for i in range(10):\n",
    "  m = digits.images[i]\n",
    "  res = np.linalg.eigvals(m)\n",
    "  print(res)\n",
    "  if not (any(isinstance(n, complex) for n in res)):\n",
    "    print(i)\n",
    "    plt.matshow(digits.images[i])\n",
    "    plt.show();"
   ]
  },
  {
   "cell_type": "code",
   "execution_count": 29,
   "id": "5f5d6067",
   "metadata": {},
   "outputs": [
    {
     "name": "stdout",
     "output_type": "stream",
     "text": [
      "0\n"
     ]
    },
    {
     "data": {
      "image/png": "[encoded data removed]",
      "text/plain": [
       "<Figure size 288x288 with 1 Axes>"
      ]
     },
     "metadata": {
      "needs_background": "light"
     },
     "output_type": "display_data"
    },
    {
     "name": "stdout",
     "output_type": "stream",
     "text": [
      "2\n"
     ]
    },
    {
     "data": {
      "image/png": "[encoded data removed]",
      "text/plain": [
       "<Figure size 288x288 with 1 Axes>"
      ]
     },
     "metadata": {
      "needs_background": "light"
     },
     "output_type": "display_data"
    },
    {
     "name": "stdout",
     "output_type": "stream",
     "text": [
      "6\n"
     ]
    },
    {
     "data": {
      "image/png": "[encoded data removed]",
      "text/plain": [
       "<Figure size 288x288 with 1 Axes>"
      ]
     },
     "metadata": {
      "needs_background": "light"
     },
     "output_type": "display_data"
    }
   ],
   "source": [
    "for i in range(10):\n",
    "    m = digits.images[i]\n",
    "    res = np.linalg.eigvals(m)\n",
    "    if not (any(isinstance(n,complex) for n in res)):\n",
    "        print(i)\n",
    "        plt.matshow(digits.images[i])\n",
    "        plt.show()"
   ]
  },
  {
   "cell_type": "code",
   "execution_count": null,
   "id": "63fb3800",
   "metadata": {},
   "outputs": [],
   "source": []
  }
 ],
 "metadata": {
  "kernelspec": {
   "display_name": "Python 3 (ipykernel)",
   "language": "python",
   "name": "python3"
  },
  "language_info": {
   "codemirror_mode": {
    "name": "ipython",
    "version": 3
   },
   "file_extension": ".py",
   "mimetype": "text/x-python",
   "name": "python",
   "nbconvert_exporter": "python",
   "pygments_lexer": "ipython3",
   "version": "3.9.7"
  }
 },
 "nbformat": 4,
 "nbformat_minor": 5
}
